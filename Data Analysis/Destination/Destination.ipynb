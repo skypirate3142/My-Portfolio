{
 "cells": [
  {
   "cell_type": "markdown",
   "metadata": {},
   "source": [
    "# European Travel Destination"
   ]
  },
  {
   "cell_type": "markdown",
   "metadata": {},
   "source": [
    "In this project, a **CSV** file with European travel destinations will be explored. We are trying to explore the factors that influence tourists interest across those destinations and gain insight into potential use cases for this data. \n"
   ]
  },
  {
   "cell_type": "markdown",
   "metadata": {},
   "source": [
    "We start by importing all the necessary libraries. "
   ]
  },
  {
   "cell_type": "code",
   "execution_count": 2,
   "metadata": {},
   "outputs": [],
   "source": [
    "import csv\n",
    "import numpy as np\n",
    "import pandas as pd\n",
    "import matplotlib.pyplot as plt\n"
   ]
  },
  {
   "cell_type": "markdown",
   "metadata": {},
   "source": [
    "The next step, we want to look through **destination.csv** to understand the dataset. To do this, we first need to read the **csv** file and assign to a variable `destinations`."
   ]
  },
  {
   "cell_type": "code",
   "execution_count": 3,
   "metadata": {},
   "outputs": [
    {
     "data": {
      "text/html": [
       "<div>\n",
       "<style scoped>\n",
       "    .dataframe tbody tr th:only-of-type {\n",
       "        vertical-align: middle;\n",
       "    }\n",
       "\n",
       "    .dataframe tbody tr th {\n",
       "        vertical-align: top;\n",
       "    }\n",
       "\n",
       "    .dataframe thead th {\n",
       "        text-align: right;\n",
       "    }\n",
       "</style>\n",
       "<table border=\"1\" class=\"dataframe\">\n",
       "  <thead>\n",
       "    <tr style=\"text-align: right;\">\n",
       "      <th></th>\n",
       "      <th>Destination</th>\n",
       "      <th>Region</th>\n",
       "      <th>Country</th>\n",
       "      <th>Category</th>\n",
       "      <th>Latitude</th>\n",
       "      <th>Longitude</th>\n",
       "      <th>Approximate Annual Tourists</th>\n",
       "      <th>Currency</th>\n",
       "      <th>Majority Religion</th>\n",
       "      <th>Famous Foods</th>\n",
       "      <th>Language</th>\n",
       "      <th>Best Time to Visit</th>\n",
       "      <th>Cost of Living</th>\n",
       "      <th>Safety</th>\n",
       "      <th>Cultural Significance</th>\n",
       "      <th>Description</th>\n",
       "    </tr>\n",
       "  </thead>\n",
       "  <tbody>\n",
       "    <tr>\n",
       "      <th>0</th>\n",
       "      <td>Rome</td>\n",
       "      <td>Lazio</td>\n",
       "      <td>Italy</td>\n",
       "      <td>City</td>\n",
       "      <td>41.902782</td>\n",
       "      <td>12.496366</td>\n",
       "      <td>14 million</td>\n",
       "      <td>Euro</td>\n",
       "      <td>Roman Catholic</td>\n",
       "      <td>Pizza, Pasta, Gelato</td>\n",
       "      <td>Italian</td>\n",
       "      <td>Spring (April-May) or Fall (Sept-Oct)</td>\n",
       "      <td>Medium-high</td>\n",
       "      <td>Generally safe, but watch out for pickpockets</td>\n",
       "      <td>The capital city, known for its historical lan...</td>\n",
       "      <td>A hub of ancient history and modern culture, w...</td>\n",
       "    </tr>\n",
       "    <tr>\n",
       "      <th>1</th>\n",
       "      <td>Florence</td>\n",
       "      <td>Tuscany</td>\n",
       "      <td>Italy</td>\n",
       "      <td>City</td>\n",
       "      <td>43.769581</td>\n",
       "      <td>11.255772</td>\n",
       "      <td>10 million</td>\n",
       "      <td>Euro</td>\n",
       "      <td>Roman Catholic</td>\n",
       "      <td>Pizza, Pasta, Gelato</td>\n",
       "      <td>Italian</td>\n",
       "      <td>Spring (April-May) or Fall (Sept-Oct)</td>\n",
       "      <td>Medium-high</td>\n",
       "      <td>Generally safe, but watch out for pickpockets</td>\n",
       "      <td>A Renaissance city famous for its art, archite...</td>\n",
       "      <td>Home to world-class museums, including the Uff...</td>\n",
       "    </tr>\n",
       "    <tr>\n",
       "      <th>2</th>\n",
       "      <td>Venice</td>\n",
       "      <td>Veneto</td>\n",
       "      <td>Italy</td>\n",
       "      <td>City</td>\n",
       "      <td>45.435559</td>\n",
       "      <td>12.336196</td>\n",
       "      <td>10 million</td>\n",
       "      <td>Euro</td>\n",
       "      <td>Roman Catholic</td>\n",
       "      <td>Pizza, Pasta, Gelato</td>\n",
       "      <td>Italian</td>\n",
       "      <td>Spring (April-May) or Fall (Sept-Oct)</td>\n",
       "      <td>Medium-high</td>\n",
       "      <td>Generally safe, but watch out for pickpockets</td>\n",
       "      <td>A unique city built on canals, known for its g...</td>\n",
       "      <td>An iconic city of water, renowned for romantic...</td>\n",
       "    </tr>\n",
       "    <tr>\n",
       "      <th>3</th>\n",
       "      <td>Milan</td>\n",
       "      <td>Lombardy</td>\n",
       "      <td>Italy</td>\n",
       "      <td>City</td>\n",
       "      <td>45.464643</td>\n",
       "      <td>9.188540</td>\n",
       "      <td>7 million</td>\n",
       "      <td>Euro</td>\n",
       "      <td>Roman Catholic</td>\n",
       "      <td>Risotto, Ossobuco, Panettone</td>\n",
       "      <td>Italian</td>\n",
       "      <td>Spring (April-May) or Fall (Sept-Oct)</td>\n",
       "      <td>High</td>\n",
       "      <td>Generally safe, but watch out for pickpockets</td>\n",
       "      <td>A fashion capital known for its shopping, muse...</td>\n",
       "      <td>A modern city with an ancient soul, featuring ...</td>\n",
       "    </tr>\n",
       "    <tr>\n",
       "      <th>4</th>\n",
       "      <td>Naples</td>\n",
       "      <td>Campania</td>\n",
       "      <td>Italy</td>\n",
       "      <td>City</td>\n",
       "      <td>40.851330</td>\n",
       "      <td>14.254720</td>\n",
       "      <td>5 million</td>\n",
       "      <td>Euro</td>\n",
       "      <td>Roman Catholic</td>\n",
       "      <td>Pizza, Pasta, Cannoli</td>\n",
       "      <td>Italian</td>\n",
       "      <td>Spring (April-May) or Fall (Sept-Oct)</td>\n",
       "      <td>Medium</td>\n",
       "      <td>Generally safe, but be aware of pickpockets</td>\n",
       "      <td>A vibrant city known for its delicious food, h...</td>\n",
       "      <td>Famous for pizza, Pompeii, and proximity to th...</td>\n",
       "    </tr>\n",
       "  </tbody>\n",
       "</table>\n",
       "</div>"
      ],
      "text/plain": [
       "  Destination    Region Country Category   Latitude  Longitude  \\\n",
       "0        Rome     Lazio   Italy     City  41.902782  12.496366   \n",
       "1    Florence   Tuscany   Italy     City  43.769581  11.255772   \n",
       "2      Venice    Veneto   Italy     City  45.435559  12.336196   \n",
       "3       Milan  Lombardy   Italy     City  45.464643   9.188540   \n",
       "4      Naples  Campania   Italy     City  40.851330  14.254720   \n",
       "\n",
       "  Approximate Annual Tourists Currency Majority Religion  \\\n",
       "0                  14 million     Euro    Roman Catholic   \n",
       "1                  10 million     Euro    Roman Catholic   \n",
       "2                  10 million     Euro    Roman Catholic   \n",
       "3                   7 million     Euro    Roman Catholic   \n",
       "4                   5 million     Euro    Roman Catholic   \n",
       "\n",
       "                   Famous Foods Language  \\\n",
       "0          Pizza, Pasta, Gelato  Italian   \n",
       "1          Pizza, Pasta, Gelato  Italian   \n",
       "2          Pizza, Pasta, Gelato  Italian   \n",
       "3  Risotto, Ossobuco, Panettone  Italian   \n",
       "4         Pizza, Pasta, Cannoli  Italian   \n",
       "\n",
       "                      Best Time to Visit Cost of Living  \\\n",
       "0  Spring (April-May) or Fall (Sept-Oct)    Medium-high   \n",
       "1  Spring (April-May) or Fall (Sept-Oct)    Medium-high   \n",
       "2  Spring (April-May) or Fall (Sept-Oct)    Medium-high   \n",
       "3  Spring (April-May) or Fall (Sept-Oct)           High   \n",
       "4  Spring (April-May) or Fall (Sept-Oct)         Medium   \n",
       "\n",
       "                                          Safety  \\\n",
       "0  Generally safe, but watch out for pickpockets   \n",
       "1  Generally safe, but watch out for pickpockets   \n",
       "2  Generally safe, but watch out for pickpockets   \n",
       "3  Generally safe, but watch out for pickpockets   \n",
       "4    Generally safe, but be aware of pickpockets   \n",
       "\n",
       "                               Cultural Significance  \\\n",
       "0  The capital city, known for its historical lan...   \n",
       "1  A Renaissance city famous for its art, archite...   \n",
       "2  A unique city built on canals, known for its g...   \n",
       "3  A fashion capital known for its shopping, muse...   \n",
       "4  A vibrant city known for its delicious food, h...   \n",
       "\n",
       "                                         Description  \n",
       "0  A hub of ancient history and modern culture, w...  \n",
       "1  Home to world-class museums, including the Uff...  \n",
       "2  An iconic city of water, renowned for romantic...  \n",
       "3  A modern city with an ancient soul, featuring ...  \n",
       "4  Famous for pizza, Pompeii, and proximity to th...  "
      ]
     },
     "execution_count": 3,
     "metadata": {},
     "output_type": "execute_result"
    }
   ],
   "source": [
    "destinations = pd.read_csv(\"destinations.csv\", encoding='unicode_escape')\n",
    "destinations.head()"
   ]
  },
  {
   "cell_type": "markdown",
   "metadata": {},
   "source": [
    "Before we do anything to the data, we take a look at the information contained in each columns such as the number of rows, missing values, and data types."
   ]
  },
  {
   "cell_type": "code",
   "execution_count": 4,
   "metadata": {},
   "outputs": [
    {
     "name": "stdout",
     "output_type": "stream",
     "text": [
      "<class 'pandas.core.frame.DataFrame'>\n",
      "RangeIndex: 209 entries, 0 to 208\n",
      "Data columns (total 16 columns):\n",
      " #   Column                       Non-Null Count  Dtype  \n",
      "---  ------                       --------------  -----  \n",
      " 0   Destination                  209 non-null    object \n",
      " 1   Region                       209 non-null    object \n",
      " 2   Country                      209 non-null    object \n",
      " 3   Category                     209 non-null    object \n",
      " 4   Latitude                     209 non-null    float64\n",
      " 5   Longitude                    209 non-null    float64\n",
      " 6   Approximate Annual Tourists  209 non-null    object \n",
      " 7   Currency                     209 non-null    object \n",
      " 8   Majority Religion            209 non-null    object \n",
      " 9   Famous Foods                 209 non-null    object \n",
      " 10  Language                     209 non-null    object \n",
      " 11  Best Time to Visit           209 non-null    object \n",
      " 12  Cost of Living               209 non-null    object \n",
      " 13  Safety                       209 non-null    object \n",
      " 14  Cultural Significance        209 non-null    object \n",
      " 15  Description                  159 non-null    object \n",
      "dtypes: float64(2), object(14)\n",
      "memory usage: 26.3+ KB\n"
     ]
    }
   ],
   "source": [
    "destinations.info()"
   ]
  },
  {
   "cell_type": "markdown",
   "metadata": {},
   "source": [
    "From this dataset, we could see it contains the **Location Data**, **Tourists Information**, **Demographics & Cultures**, **Living Standards** and **Descriptions** of the European destination. We are trying to use these informations to answer some questions like:\n",
    "- Does the cost of living affect the number of tourists?\n",
    "- Are certain time of the year more popular for certain regions?\n",
    "- Is culture or unique cuisine a key attraction for the tourists?\n",
    "- What are the common charateristics of the most visited destinations?"
   ]
  },
  {
   "cell_type": "markdown",
   "metadata": {},
   "source": [
    "We will start by taking the **Cost of Living** and **Approximate Annual Tourists** columns from `destinations` and store them into `living_costs` and `num_tourists`, respectively. Those variables will be inspected to ensure the data is suitable for our analysis."
   ]
  },
  {
   "cell_type": "code",
   "execution_count": 5,
   "metadata": {},
   "outputs": [],
   "source": [
    "living_costs = destinations[\"Cost of Living\"]\n",
    "num_tourists = destinations[\"Approximate Annual Tourists\"]"
   ]
  },
  {
   "cell_type": "code",
   "execution_count": 29,
   "metadata": {},
   "outputs": [
    {
     "data": {
      "text/plain": [
       "0      14 million\n",
       "1      10 million\n",
       "2      10 million\n",
       "3       7 million\n",
       "4       5 million\n",
       "          ...    \n",
       "204       100,000\n",
       "205        50,000\n",
       "206        25,000\n",
       "207        20,000\n",
       "208        10,000\n",
       "Name: Approximate Annual Tourists, Length: 209, dtype: object"
      ]
     },
     "execution_count": 29,
     "metadata": {},
     "output_type": "execute_result"
    }
   ],
   "source": [
    "living_costs.unique()"
   ]
  },
  {
   "cell_type": "markdown",
   "metadata": {},
   "source": [
    "The variable `living_costs` contains of 6 categories:\n",
    "- \"Free\"\n",
    "- \"Varies\"\n",
    "- \"Medium\"\n",
    "- \"Medium-high\"\n",
    "- \"High\"\n",
    "- \"Extremely high\""
   ]
  },
  {
   "cell_type": "code",
   "execution_count": 7,
   "metadata": {},
   "outputs": [
    {
     "data": {
      "text/plain": [
       "array(['14 million', '10 million', '7 million', '5 million', '3 million',\n",
       "       '2 million', '1.5 million', '1 million', '12.7 million',\n",
       "       '3.5 million', '2.5 million', '8 million', '12 million',\n",
       "       '35-40 million', '4 million', '800,000',\n",
       "       '10 million (region-wide)', '12 million (region-wide)',\n",
       "       '7.5 million', '500,000', '400,000', '200,000', '300,000',\n",
       "       '100,000', '13.5 million', '50,000', '12.5 million',\n",
       "       '2 million (tourists)', '150,000', '350,000', '15 million',\n",
       "       '25 million', '25,000', '20,000', '10,000'], dtype=object)"
      ]
     },
     "execution_count": 7,
     "metadata": {},
     "output_type": "execute_result"
    }
   ],
   "source": [
    "num_tourists.unique()"
   ]
  },
  {
   "cell_type": "markdown",
   "metadata": {},
   "source": [
    "The series variable `num_tourists` contains strings i.e. \"million\", \"(region-wide)\", and \"(tourists)\". The figures within the series is converted to actual numbers and store in `num_tourists_updated` for our analysis. The label \"region-wide\" and \"tourists\" on the data of `num_tourists` are ignored. Noticed that there is an element in `num_tourists` has a data of \"35-40 million\", we will take the middle of the range and convert it to number."
   ]
  },
  {
   "cell_type": "code",
   "execution_count": 26,
   "metadata": {},
   "outputs": [
    {
     "data": {
      "text/plain": [
       "0      14000000\n",
       "1      10000000\n",
       "2      10000000\n",
       "3       7000000\n",
       "4       5000000\n",
       "         ...   \n",
       "204      100000\n",
       "205       50000\n",
       "206       25000\n",
       "207       20000\n",
       "208       10000\n",
       "Length: 209, dtype: int64"
      ]
     },
     "execution_count": 26,
     "metadata": {},
     "output_type": "execute_result"
    }
   ],
   "source": [
    "num_tourists_array = num_tourists.to_numpy()\n",
    "num_tourists_array\n",
    "num_tourists_updated = []\n",
    "for i in num_tourists_array:\n",
    "    if i == \"35-40 million\":\n",
    "        num_tourists_updated.append(int(37.5 * (10 ** 6)))\n",
    "    elif \"million\" in i:\n",
    "        index_m = i.index(\"m\")\n",
    "        number = i[:index_m]\n",
    "        number = float(number)\n",
    "        number = int(number * (10 ** 6))\n",
    "        num_tourists_updated.append(number)\n",
    "    else:\n",
    "        i = i.replace(',', '')\n",
    "        i = int(i)\n",
    "        num_tourists_updated.append(i)\n",
    "num_tourists_updated = pd.Series(num_tourists_updated)\n",
    "num_tourists_updated\n",
    "        "
   ]
  },
  {
   "cell_type": "markdown",
   "metadata": {},
   "source": []
  },
  {
   "cell_type": "code",
   "execution_count": 30,
   "metadata": {},
   "outputs": [
    {
     "data": {
      "text/html": [
       "<div>\n",
       "<style scoped>\n",
       "    .dataframe tbody tr th:only-of-type {\n",
       "        vertical-align: middle;\n",
       "    }\n",
       "\n",
       "    .dataframe tbody tr th {\n",
       "        vertical-align: top;\n",
       "    }\n",
       "\n",
       "    .dataframe thead th {\n",
       "        text-align: right;\n",
       "    }\n",
       "</style>\n",
       "<table border=\"1\" class=\"dataframe\">\n",
       "  <thead>\n",
       "    <tr style=\"text-align: right;\">\n",
       "      <th></th>\n",
       "      <th>Living costs</th>\n",
       "      <th>Number of Tourists</th>\n",
       "    </tr>\n",
       "  </thead>\n",
       "  <tbody>\n",
       "    <tr>\n",
       "      <th>0</th>\n",
       "      <td>Medium-high</td>\n",
       "      <td>14000000</td>\n",
       "    </tr>\n",
       "    <tr>\n",
       "      <th>1</th>\n",
       "      <td>Medium-high</td>\n",
       "      <td>10000000</td>\n",
       "    </tr>\n",
       "    <tr>\n",
       "      <th>2</th>\n",
       "      <td>Medium-high</td>\n",
       "      <td>10000000</td>\n",
       "    </tr>\n",
       "    <tr>\n",
       "      <th>3</th>\n",
       "      <td>High</td>\n",
       "      <td>7000000</td>\n",
       "    </tr>\n",
       "    <tr>\n",
       "      <th>4</th>\n",
       "      <td>Medium</td>\n",
       "      <td>5000000</td>\n",
       "    </tr>\n",
       "    <tr>\n",
       "      <th>...</th>\n",
       "      <td>...</td>\n",
       "      <td>...</td>\n",
       "    </tr>\n",
       "    <tr>\n",
       "      <th>204</th>\n",
       "      <td>Medium-high</td>\n",
       "      <td>100000</td>\n",
       "    </tr>\n",
       "    <tr>\n",
       "      <th>205</th>\n",
       "      <td>Free</td>\n",
       "      <td>50000</td>\n",
       "    </tr>\n",
       "    <tr>\n",
       "      <th>206</th>\n",
       "      <td>Medium</td>\n",
       "      <td>25000</td>\n",
       "    </tr>\n",
       "    <tr>\n",
       "      <th>207</th>\n",
       "      <td>Medium</td>\n",
       "      <td>20000</td>\n",
       "    </tr>\n",
       "    <tr>\n",
       "      <th>208</th>\n",
       "      <td>Medium-high</td>\n",
       "      <td>10000</td>\n",
       "    </tr>\n",
       "  </tbody>\n",
       "</table>\n",
       "<p>209 rows × 2 columns</p>\n",
       "</div>"
      ],
      "text/plain": [
       "    Living costs  Number of Tourists\n",
       "0    Medium-high            14000000\n",
       "1    Medium-high            10000000\n",
       "2    Medium-high            10000000\n",
       "3           High             7000000\n",
       "4         Medium             5000000\n",
       "..           ...                 ...\n",
       "204  Medium-high              100000\n",
       "205         Free               50000\n",
       "206       Medium               25000\n",
       "207       Medium               20000\n",
       "208  Medium-high               10000\n",
       "\n",
       "[209 rows x 2 columns]"
      ]
     },
     "execution_count": 30,
     "metadata": {},
     "output_type": "execute_result"
    }
   ],
   "source": [
    "num_tourists_living_costs_dict = {\"Living costs\": living_costs, \"Number of Tourists\": num_tourists_updated}\n",
    "num_tourists_living_costs_pd = pd.DataFrame(num_tourists_living_costs_dict)\n",
    "num_tourists_living_costs_pd"
   ]
  },
  {
   "cell_type": "code",
   "execution_count": 28,
   "metadata": {},
   "outputs": [
    {
     "data": {
      "text/plain": [
       "(array([174.,  13.,  13.,   7.,   0.,   0.,   1.,   0.,   0.,   1.]),\n",
       " array([1.0000e+04, 3.7590e+06, 7.5080e+06, 1.1257e+07, 1.5006e+07,\n",
       "        1.8755e+07, 2.2504e+07, 2.6253e+07, 3.0002e+07, 3.3751e+07,\n",
       "        3.7500e+07]),\n",
       " <BarContainer object of 10 artists>)"
      ]
     },
     "execution_count": 28,
     "metadata": {},
     "output_type": "execute_result"
    },
    {
     "data": {
      "image/png": "[encoded data removed]",
      "text/plain": [
       "<Figure size 640x480 with 1 Axes>"
      ]
     },
     "metadata": {},
     "output_type": "display_data"
    }
   ],
   "source": [
    "plt.hist(num_tourists_living_costs_pd[\"Number of Tourists\"])"
   ]
  },
  {
   "cell_type": "code",
   "execution_count": null,
   "metadata": {},
   "outputs": [],
   "source": []
  }
 ],
 "metadata": {
  "kernelspec": {
   "display_name": "base",
   "language": "python",
   "name": "python3"
  },
  "language_info": {
   "codemirror_mode": {
    "name": "ipython",
    "version": 3
   },
   "file_extension": ".py",
   "mimetype": "text/x-python",
   "name": "python",
   "nbconvert_exporter": "python",
   "pygments_lexer": "ipython3",
   "version": "3.11.7"
  }
 },
 "nbformat": 4,
 "nbformat_minor": 2
}
